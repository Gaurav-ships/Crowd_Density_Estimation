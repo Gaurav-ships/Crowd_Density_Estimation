{
 "cells": [
  {
   "cell_type": "code",
   "execution_count": 22,
   "metadata": {},
   "outputs": [],
   "source": [
    "import numpy as np\n",
    "import cv2\n",
    "import os\n",
    "import time\n",
    "from scipy.spatial import distance as distance"
   ]
  },
  {
   "cell_type": "code",
   "execution_count": 2,
   "metadata": {},
   "outputs": [
    {
     "data": {
      "text/plain": [
       "'person'"
      ]
     },
     "execution_count": 2,
     "metadata": {},
     "output_type": "execute_result"
    }
   ],
   "source": [
    "labelpath='darknet/data/coco.names'\n",
    "file=open(labelpath)\n",
    "label=file.read().strip().split(\"\\n\")\n",
    "label[0]"
   ]
  },
  {
   "cell_type": "code",
   "execution_count": 3,
   "metadata": {},
   "outputs": [],
   "source": [
    "weightspath=r'C:\\Users\\Lenovo\\Desktop\\Crowd Detection\\darknet\\cfg\\yolov3.weights'\n",
    "configpath=r'C:\\Users\\Lenovo\\Desktop\\Crowd Detection\\darknet\\cfg\\yolov3.cfg'"
   ]
  },
  {
   "cell_type": "code",
   "execution_count": 4,
   "metadata": {},
   "outputs": [],
   "source": [
    "net=cv2.dnn.readNetFromDarknet(configpath,weightspath)"
   ]
  },
  {
   "cell_type": "code",
   "execution_count": 73,
   "metadata": {},
   "outputs": [],
   "source": [
    "videopath=r'C:\\Users\\Lenovo\\Desktop\\Crowd Detection\\video\\walk.mp4'"
   ]
  },
  {
   "cell_type": "code",
   "execution_count": 54,
   "metadata": {},
   "outputs": [],
   "source": [
    "ln=net.getLayerNames()\n",
    "ln = [ln[i[0] - 1] for i in net.getUnconnectedOutLayers()]\n"
   ]
  },
  {
   "cell_type": "code",
   "execution_count": 55,
   "metadata": {},
   "outputs": [],
   "source": [
    "def people():\n",
    "    results=[]"
   ]
  },
  {
   "cell_type": "code",
   "execution_count": 74,
   "metadata": {},
   "outputs": [],
   "source": [
    "video=cv2.VideoCapture(videopath)\n",
    "ret = video\n",
    "while(True):\n",
    "    ret,frame=video.read()\n",
    "    if ret==False:\n",
    "        print('Error running the file :(')\n",
    "    frame=cv2.resize(frame, (640,440), interpolation =cv2.INTER_AREA)\n",
    "    blob = cv2.dnn.blobFromImage(frame, 1/255.0, (416, 416), swapRB=True, crop=False)\n",
    "    r = blob[0, 0, :, :]\n",
    "    net.setInput(blob)\n",
    "    t0 = time.time()\n",
    "    outputs = net.forward(ln)\n",
    "    t = time.time()\n",
    "\n",
    "    boxes = []\n",
    "    confidences = []\n",
    "    classIDs = []\n",
    "    center=[]\n",
    "    output=[]\n",
    "    count=0\n",
    "    results=[]\n",
    "    breach=set()\n",
    "    \n",
    "    h, w = frame.shape[:2]\n",
    "    for output in outputs:\n",
    "        for detection in output:\n",
    "            scores = detection[5:]\n",
    "            classID = np.argmax(scores)\n",
    "           \n",
    "            confidence = scores[classID]\n",
    "           \n",
    "            if confidence > 0.5:\n",
    "                box = detection[0:4] * np.array([w, h, w, h])\n",
    "                (centerX, centerY, width, height) = box.astype(\"int\")\n",
    "                x = int(centerX - (width / 2))\n",
    "                y = int(centerY - (height / 2))\n",
    "                center.append((centerX,centerY))\n",
    "                box = [x, y, int(width), int(height)]\n",
    "                boxes.append(box)\n",
    "                confidences.append(float(confidence))\n",
    "                classIDs.append(classID)\n",
    "\n",
    "    indices = cv2.dnn.NMSBoxes(boxes, confidences, 0.5, 0.4)\n",
    "    \n",
    "    if len(indices) > 0:\n",
    "        for i in indices.flatten():\n",
    "            (x, y) = (boxes[i][0], boxes[i][1])\n",
    "            (w, h) = (boxes[i][2], boxes[i][3])\n",
    "            #color = [int(c) for c in colors[classIDs[i]]]\n",
    "            if(label[classIDs[i]]=='person'):\n",
    "                #people()\n",
    "                cX=(int)(x+(y/2))\n",
    "                cY=(int)(w+(h/2))\n",
    "                center.append((cX,cY))\n",
    "                \n",
    "                #count=count+1\n",
    "                \n",
    "                res=(confidences[i],(x,y,x+w,y+h),center[i])\n",
    "                results.append(res) \n",
    "    if(len(results)>=2):\n",
    "        D=distance.cdist(center,center)\n",
    "        for i in range(0,D.shape[0]):\n",
    "            for j in range(i+1,D.shape[1]):\n",
    "                if(D[i,j]<10):\n",
    "                    breach.add(i)\n",
    "                    breach.add(j)\n",
    "    for (i,(prob,bbox,centroid)) in enumerate(results):\n",
    "        (startX, startY, endX, endY) = bbox\n",
    "        (cX, cY) = centroid\n",
    "        color = (0, 255,0)\n",
    "        if i in breach:\n",
    "            color=(0,0,255)\n",
    "            count=count+1\n",
    "        \n",
    "        cv2.rectangle(frame,(startX, startY), (endX, endY),color, 2)\n",
    "        cv2.circle(frame,(cX,cY),4,color,-1)\n",
    "        #text=\"{}:{:.2f}\".format(label[classIDs[i]],confidences[i])\n",
    "        #cv2.putText(frame, text, (x, y - 5), cv2.FONT_HERSHEY_SIMPLEX, 0.5, (255,0,0), 1)\n",
    "                    \n",
    "    \n",
    "    cv2.putText(frame,\"Violation: {}\".format(count), (20, frame.shape[0] - 5), cv2.FONT_HERSHEY_SIMPLEX, 0.5, (23,255,255), 1)      \n",
    "\n",
    "    #frame_blob=makeblob(frame)\n",
    "    cv2.imshow('Frame',frame)\n",
    "    #cv2.VideoWriter(r'C:\\Users\\Lenovo\\Desktop\\Crowd Detection\\video\\walk2.mp4', cv2.VideoWriter_fourcc(*'MJPG'), 10, (640,440)).write(frame) \n",
    "    \n",
    "    if(cv2.waitKey(1)==ord('q')):\n",
    "        break\n",
    "video.release()\n",
    "cv2.destroyAllWindows()"
   ]
  },
  {
   "cell_type": "code",
   "execution_count": null,
   "metadata": {},
   "outputs": [],
   "source": []
  }
 ],
 "metadata": {
  "kernelspec": {
   "display_name": "Python 3 (ipykernel)",
   "language": "python",
   "name": "python3"
  },
  "language_info": {
   "codemirror_mode": {
    "name": "ipython",
    "version": 3
   },
   "file_extension": ".py",
   "mimetype": "text/x-python",
   "name": "python",
   "nbconvert_exporter": "python",
   "pygments_lexer": "ipython3",
   "version": "3.9.7"
  },
  "vscode": {
   "interpreter": {
    "hash": "bf4fbbcfb44b62809ee9ef976aff62d8f85ac4ea82e40788fda9594addf376e6"
   }
  }
 },
 "nbformat": 4,
 "nbformat_minor": 4
}
